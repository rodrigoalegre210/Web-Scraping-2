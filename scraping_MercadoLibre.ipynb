{
 "cells": [
  {
   "cell_type": "code",
   "execution_count": 8,
   "metadata": {},
   "outputs": [],
   "source": [
    "# Importamos las librerías.\n",
    "from bs4 import BeautifulSoup\n",
    "import requests\n",
    "import csv"
   ]
  },
  {
   "cell_type": "markdown",
   "metadata": {},
   "source": [
    "En esta parte del código, iteramos sobre una lista de URLs que corresponden a diferentes secciones dentro de la categoría \"**Tecnología**\" de MercadoLibre."
   ]
  },
  {
   "cell_type": "code",
   "execution_count": 9,
   "metadata": {},
   "outputs": [],
   "source": [
    "URLs_BASE = ['https://www.mercadolibre.com.ar/c/celulares-y-telefonos#menu=categories', \n",
    "             'https://www.mercadolibre.com.ar/c/computacion#menu=categories',\n",
    "             'https://www.mercadolibre.com.ar/c/camaras-y-accesorios#menu=categories',\n",
    "             'https://www.mercadolibre.com.ar/c/electronica-audio-y-video#menu=categories']\n",
    "\n",
    "reseñas_individuales = []\n",
    "\n",
    "for url in URLs_BASE:\n",
    "    pedido_obtenido = requests.get(url)\n",
    "    \n",
    "    if pedido_obtenido.status_code == 200: # Nos aseguramos que la página se descargó bien.\n",
    "        soup = BeautifulSoup(pedido_obtenido.text, \"html.parser\")\n",
    "\n",
    "        # Buscamos contenedores de productos.\n",
    "        enlaces_productos = soup.find_all('a', class_ = 'splinter-link')\n",
    "\n",
    "        for enlace in enlaces_productos:\n",
    "            url_producto = enlace.get('href')\n",
    "            \n",
    "            # Filtramos solo las URLs que contienen \"/p/\"\n",
    "            if url_producto and \"/p/\" in url_producto:\n",
    "                producto_pagina = requests.get(url_producto)\n",
    "\n",
    "                if producto_pagina.status_code == 200: # Nos aseguramos que la página se descargó bien.\n",
    "                    producto_soup = BeautifulSoup(producto_pagina.text, \"html.parser\")\n",
    "\n",
    "                    # Extraemos la información del producto.\n",
    "                    nombre_producto = producto_soup.find('h1', class_ = 'ui-pdp-title')\n",
    "                    precio_producto = producto_soup.find('span', class_ = 'andes-money-amount__fraction')\n",
    "                    rating_producto = producto_soup.find('span', class_ = 'ui-pdp-review__rating')\n",
    "                    reseña_producto = producto_soup.find_all('p', class_ = 'ui-review-capability-comments__comment__content ui-review-capability-comments__comment__content')\n",
    "\n",
    "                    # Convertimos los datos a texto.\n",
    "                    nombre_producto = nombre_producto.text.strip() if nombre_producto else \"Sin nombre\"\n",
    "                    precio_producto = precio_producto.text.strip() if precio_producto else \"Sin precio\"\n",
    "                    rating_producto = rating_producto.text.strip() if rating_producto else \"Sin rating\"\n",
    "\n",
    "                    # Para las reseñas, extraemos todas en una lista.\n",
    "                    for reseña in reseña_producto:\n",
    "                        texto_reseña = reseña.text.strip()\n",
    "                        reseñas_individuales.append([nombre_producto, precio_producto, rating_producto, texto_reseña])\n",
    "\n",
    "    else:\n",
    "        print(f'Error al acceder a {url}')"
   ]
  },
  {
   "cell_type": "code",
   "execution_count": 12,
   "metadata": {},
   "outputs": [],
   "source": [
    "# Guardamos en un archivo CSV\n",
    "with open('reseñas_mercadolibre.csv', 'w', newline = '', encoding = 'utf-8') as archivo_csv:\n",
    "    writer = csv.writer(archivo_csv)\n",
    "    writer.writerow(['Nombre del producto', 'Precio', 'Rating', 'Reseña'])\n",
    "    writer.writerows(reseñas_individuales)"
   ]
  }
 ],
 "metadata": {
  "kernelspec": {
   "display_name": "Python 3",
   "language": "python",
   "name": "python3"
  },
  "language_info": {
   "codemirror_mode": {
    "name": "ipython",
    "version": 3
   },
   "file_extension": ".py",
   "mimetype": "text/x-python",
   "name": "python",
   "nbconvert_exporter": "python",
   "pygments_lexer": "ipython3",
   "version": "3.13.1"
  }
 },
 "nbformat": 4,
 "nbformat_minor": 2
}
